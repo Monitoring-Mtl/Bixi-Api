{
 "cells": [
  {
   "cell_type": "markdown",
   "metadata": {},
   "source": [
    "# `Bixi-Api`\n",
    "\n",
    "`Bixi-Api` is a REST API by which users can access historic Bixi data that we collected and processed for easy access and analysis. This notebook documents design decisions this API. \n",
    "\n",
    "## Functional requirements\n",
    "\n",
    "- Calculate and return average Bixi trip duration for a specified time frame.\n",
    "\n",
    "## Non-functional requirements\n",
    "\n",
    "Not elucidated. For an exploratory development, we'll consider these minimums:\n",
    "- Performance: Aggregations for extensive periods should complete within 30 seconds.\n",
    "- Maintainability: Adhere to RESTful API conventions and ensure documentation.\n",
    "- Error Handling: Offer clear error messages for invalid inputs or system errors.\n",
    "- Logging and Monitoring: Record API usage and errors; enable live monitoring.\n",
    "\n",
    "## Architecture: `REST API`\n",
    "\n",
    "Our frontend application needs to query Bixi data. `REST APIs` are a common choice for connecting frontends to databases because they are straightforward to implement, secure, and easy to maintain, supported by a wide range of frameworks and community support.\n",
    "\n",
    "`GraphQL` is an alternative API architecture specifically designed for querying data. According to an [AWS post](https://aws.amazon.com/compare/the-difference-between-graphql-and-rest/), `GraphQL` is preferable under conditions of limited bandwidth, involvement of multiple data sources, and highly variable client requests. However, our application is relatively simple with a gradually expanding set of defined data queries, making `REST` the preferable choice. This decision aligns with our existing development practices, maintaining consistency as `REST` has been used by our predecessors.\n",
    "\n",
    "## Language: `Python`\n",
    "\n",
    "We selected `Python` as our primary language, largely due to our team's familiarity with it. Python is a mature, community-supported language that integrates seamlessly into our AWS ecosystem. Key drawbacks include the Global Interpreter Lock (GIL) and lower performance compared to some other languages. Nevertheless, for a small-scale API managed by a lambda function, ease of use and familiarity were the decisive factors.\n",
    "\n",
    "We also considered `Typescript` and `Go` but ultimately chose not to use them, mainly because of our greater familiarity and comfort with Python.\n",
    "\n",
    "## Framework: `FastAPI`\n",
    "\n",
    "We opted for `FastAPI` due to its popularity, ease of setup and usage, and extensive support. It automatically provides API documentation (Swagger) without needing extra code. FastAPI simplifies defining endpoint parameter constraints and error handling. It fits well into our serverless architecture using the `Mangum` wrapper.\n",
    "\n",
    "Considered alternatives included using no framework (just lambda functions) and `Flask`. The no-framework approach posed challenges in routing and error management. While `Flask` is effective, we chose `FastAPI` for its out of the box Swagger integration.\n",
    "\n",
    "## Endpoints\n",
    "\n",
    "![routes](./img/routes.png)\n",
    "\n",
    "The main route for UC006 is `/trips/duration/stats`. Parameters `min_start_time` and `max_start_time` must be in milliseconds to be consistent with data formatting. It returns statistics available for the specified time frame, including the average trip duration, the maximum, the minimum, the standard deviation and the trip count. We chose to include the extra information because they help interpret the average better. The endpoint returns a `400 error` if the request is malformed with details about the error.\n",
    "\n",
    "The other `/trip` routes provide information on the available date range for querying. They each return the corresponding trip to add more context to the data.\n",
    "\n",
    "The `/health` route is a standard health check.\n",
    "\n",
    "The `/docs` route is the Swagger documentation with real access to the API.\n",
    "\n",
    "The API will return a `404 error` if a query on a route other than the ones cited above is received and a `500 error` if an unexpected error occurs internally.\n"
   ]
  }
 ],
 "metadata": {
  "kernelspec": {
   "display_name": "bixi-api",
   "language": "python",
   "name": "python3"
  },
  "language_info": {
   "name": "python",
   "version": "3.11.8"
  }
 },
 "nbformat": 4,
 "nbformat_minor": 2
}
